{
 "cells": [
  {
   "cell_type": "markdown",
   "metadata": {},
   "source": [
    "# Countdown Numbers Game"
   ]
  },
  {
   "cell_type": "code",
   "execution_count": null,
   "metadata": {},
   "outputs": [],
   "source": [
    "# For random nubmers and samples.\n",
    "import random\n",
    "\n",
    "\n",
    "\n",
    "def new_numbers_game(no_large=None):\n",
    "  \"\"\" Returns six numbers and a target number representing a Countdown numbers game.\"\"\"\n",
    "  \n",
    "  # If no_large in None, randomly pick value between 0 and 4 inclusive.\n",
    "  if no_large is None:\n",
    "    # Randomly set the value.\n",
    "    no_large = random.randrange(0, 5)\n",
    "  \n",
    "  # Select random large numbers.\n",
    "  large_rand = random.sample([25, 50, 75, 100], no_large)\n",
    "  # Select random small numbers.\n",
    "  small_rand = random.sample(list(range(1, 11)) * 2, 6 - no_large)\n",
    "  # The playing numbers.\n",
    "  play_nos = large_rand + small_rand\n",
    "\n",
    "  # Select a target number.\n",
    "  target = random.randrange(101, 1000)\n",
    "\n",
    "  # Return the game.\n",
    "  return play_nos, target"
   ]
  },
  {
   "cell_type": "code",
   "execution_count": 9,
   "metadata": {},
   "outputs": [
    {
     "data": {
      "text/plain": [
       "([9, 1, 6, 5, 6, 3], 910)"
      ]
     },
     "execution_count": 9,
     "metadata": {},
     "output_type": "execute_result"
    }
   ],
   "source": [
    "# Random nubmers game.\n",
    "new_numbers_game()\n",
    "\n",
    "# New random nubmers game.\n",
    "play_nos, target = new_numbers_game()\n",
    "play_nos, target"
   ]
  },
  {
   "cell_type": "code",
   "execution_count": 15,
   "metadata": {},
   "outputs": [],
   "source": [
    "import operator\n",
    "# An example list of six numbers.\n",
    "numbers = [9, 1, 6, 5, 6, 3]\n",
    "\n",
    "# Example operators.\n",
    "operators = [operator.add, operator.mul, operator.sub, operator.add, operator.add]"
   ]
  },
  {
   "cell_type": "code",
   "execution_count": 16,
   "metadata": {},
   "outputs": [],
   "source": [
    "# Give all 2-partitions of a list\n",
    "# where each sublist has  one element.\n",
    "def patterns(numbers, operators):\n",
    "  # Check if there is no way to partition further.\n",
    "  if len(numbers) == 1:\n",
    "    yield numbers\n",
    "  # Loop through all the ways to partition L into two non-empty sublists.\n",
    "  for i in range(1, len(numbers)):\n",
    "    # Slice the list using i.\n",
    "    for left, right in it.product(patterns(numbers[:i], operators[1:i]), patterns(numbers[i:], operators[i:])):\n",
    "      # Yield the next operator applied to the sublists.\n",
    "      yield [*left, *right, operators[0]]"
   ]
  },
  {
   "cell_type": "code",
   "execution_count": 17,
   "metadata": {},
   "outputs": [],
   "source": [
    "# Evaluate RPN expression.\n",
    "def eval_rpn(rpn):\n",
    "  # A stack.\n",
    "  stack = []\n",
    "  # Loop through rpn an item at a time.\n",
    "  for i in rpn:\n",
    "    # Check if it's a number.\n",
    "    if isinstance(i, int):\n",
    "      # Append to the stack.\n",
    "      stack = stack + [i]\n",
    "    else:\n",
    "      # Pop from stack twice.\n",
    "      right = stack[-1]\n",
    "      stack = stack[:-1]\n",
    "      left = stack[-1]\n",
    "      stack = stack[:-1]\n",
    "      # Push operator applied to stack elements.\n",
    "      stack = stack + [i(left, right)]\n",
    "  # Should only be one item on stack.\n",
    "  return stack[0]"
   ]
  },
  {
   "cell_type": "code",
   "execution_count": 18,
   "metadata": {},
   "outputs": [
    {
     "name": "stdout",
     "output_type": "stream",
     "text": [
      "1 [9, 1, 6, 5, 6, 3, <built-in function add>, <built-in function add>, <built-in function sub>, <built-in function mul>, <built-in function add>]\n",
      "1 [9, 1, 6, 5, 6, <built-in function add>, 3, <built-in function add>, <built-in function sub>, <built-in function mul>, <built-in function add>]\n",
      "11 [9, 1, 6, 5, <built-in function add>, 6, 3, <built-in function add>, <built-in function sub>, <built-in function mul>, <built-in function add>]\n",
      "23 [9, 1, 6, 5, 6, <built-in function add>, <built-in function add>, 3, <built-in function sub>, <built-in function mul>, <built-in function add>]\n",
      "23 [9, 1, 6, 5, <built-in function add>, 6, <built-in function add>, 3, <built-in function sub>, <built-in function mul>, <built-in function add>]\n",
      "-61 [9, 1, 6, <built-in function sub>, 5, 6, 3, <built-in function add>, <built-in function add>, <built-in function mul>, <built-in function add>]\n",
      "-61 [9, 1, 6, <built-in function sub>, 5, 6, <built-in function add>, 3, <built-in function add>, <built-in function mul>, <built-in function add>]\n",
      "-81 [9, 1, 6, 5, <built-in function add>, <built-in function sub>, 6, 3, <built-in function add>, <built-in function mul>, <built-in function add>]\n",
      "27 [9, 1, 6, <built-in function add>, 5, <built-in function sub>, 6, 3, <built-in function add>, <built-in function mul>, <built-in function add>]\n",
      "-39 [9, 1, 6, 5, 6, <built-in function add>, <built-in function add>, <built-in function sub>, 3, <built-in function mul>, <built-in function add>]\n",
      "-39 [9, 1, 6, 5, <built-in function add>, 6, <built-in function add>, <built-in function sub>, 3, <built-in function mul>, <built-in function add>]\n",
      "-3 [9, 1, 6, <built-in function add>, 5, 6, <built-in function add>, <built-in function sub>, 3, <built-in function mul>, <built-in function add>]\n",
      "27 [9, 1, 6, 5, <built-in function add>, <built-in function add>, 6, <built-in function sub>, 3, <built-in function mul>, <built-in function add>]\n",
      "27 [9, 1, 6, <built-in function add>, 5, <built-in function add>, 6, <built-in function sub>, 3, <built-in function mul>, <built-in function add>]\n",
      "1 [9, 1, <built-in function mul>, 6, 5, 6, 3, <built-in function add>, <built-in function add>, <built-in function sub>, <built-in function add>]\n",
      "1 [9, 1, <built-in function mul>, 6, 5, 6, <built-in function add>, 3, <built-in function add>, <built-in function sub>, <built-in function add>]\n",
      "11 [9, 1, <built-in function mul>, 6, 5, <built-in function add>, 6, 3, <built-in function add>, <built-in function sub>, <built-in function add>]\n",
      "23 [9, 1, <built-in function mul>, 6, 5, 6, <built-in function add>, <built-in function add>, 3, <built-in function sub>, <built-in function add>]\n",
      "23 [9, 1, <built-in function mul>, 6, 5, <built-in function add>, 6, <built-in function add>, 3, <built-in function sub>, <built-in function add>]\n",
      "-31 [9, 1, 6, <built-in function sub>, <built-in function mul>, 5, 6, 3, <built-in function add>, <built-in function add>, <built-in function add>]\n",
      "-31 [9, 1, 6, <built-in function sub>, <built-in function mul>, 5, 6, <built-in function add>, 3, <built-in function add>, <built-in function add>]\n",
      "62 [9, 1, <built-in function sub>, 6, <built-in function mul>, 5, 6, 3, <built-in function add>, <built-in function add>, <built-in function add>]\n",
      "62 [9, 1, <built-in function sub>, 6, <built-in function mul>, 5, 6, <built-in function add>, 3, <built-in function add>, <built-in function add>]\n",
      "-81 [9, 1, 6, 5, <built-in function add>, <built-in function sub>, <built-in function mul>, 6, 3, <built-in function add>, <built-in function add>]\n",
      "27 [9, 1, 6, <built-in function add>, 5, <built-in function sub>, <built-in function mul>, 6, 3, <built-in function add>, <built-in function add>]\n",
      "97 [9, 1, <built-in function sub>, 6, 5, <built-in function add>, <built-in function mul>, 6, 3, <built-in function add>, <built-in function add>]\n",
      "19 [9, 1, 6, <built-in function add>, <built-in function sub>, 5, <built-in function mul>, 6, 3, <built-in function add>, <built-in function add>]\n",
      "29 [9, 1, <built-in function add>, 6, <built-in function sub>, 5, <built-in function mul>, 6, 3, <built-in function add>, <built-in function add>]\n",
      "-141 [9, 1, 6, 5, 6, <built-in function add>, <built-in function add>, <built-in function sub>, <built-in function mul>, 3, <built-in function add>]\n",
      "-141 [9, 1, 6, 5, <built-in function add>, 6, <built-in function add>, <built-in function sub>, <built-in function mul>, 3, <built-in function add>]\n",
      "-33 [9, 1, 6, <built-in function add>, 5, 6, <built-in function add>, <built-in function sub>, <built-in function mul>, 3, <built-in function add>]\n",
      "57 [9, 1, 6, 5, <built-in function add>, <built-in function add>, 6, <built-in function sub>, <built-in function mul>, 3, <built-in function add>]\n",
      "57 [9, 1, 6, <built-in function add>, 5, <built-in function add>, 6, <built-in function sub>, <built-in function mul>, 3, <built-in function add>]\n",
      "139 [9, 1, <built-in function sub>, 6, 5, 6, <built-in function add>, <built-in function add>, <built-in function mul>, 3, <built-in function add>]\n",
      "139 [9, 1, <built-in function sub>, 6, 5, <built-in function add>, 6, <built-in function add>, <built-in function mul>, 3, <built-in function add>]\n",
      "25 [9, 1, 6, <built-in function add>, <built-in function sub>, 5, 6, <built-in function add>, <built-in function mul>, 3, <built-in function add>]\n",
      "47 [9, 1, <built-in function add>, 6, <built-in function sub>, 5, 6, <built-in function add>, <built-in function mul>, 3, <built-in function add>]\n",
      "-15 [9, 1, 6, 5, <built-in function add>, <built-in function add>, <built-in function sub>, 6, <built-in function mul>, 3, <built-in function add>]\n",
      "-15 [9, 1, 6, <built-in function add>, 5, <built-in function add>, <built-in function sub>, 6, <built-in function mul>, 3, <built-in function add>]\n",
      "-3 [9, 1, <built-in function add>, 6, 5, <built-in function add>, <built-in function sub>, 6, <built-in function mul>, 3, <built-in function add>]\n",
      "69 [9, 1, 6, <built-in function add>, <built-in function add>, 5, <built-in function sub>, 6, <built-in function mul>, 3, <built-in function add>]\n",
      "69 [9, 1, <built-in function add>, 6, <built-in function add>, 5, <built-in function sub>, 6, <built-in function mul>, 3, <built-in function add>]\n"
     ]
    }
   ],
   "source": [
    "\n",
    "import itertools as it\n",
    "\n",
    "# Using eval, which mightn't be great.\n",
    "for i in patterns(numbers, operators):\n",
    "  print(eval_rpn(i), i)"
   ]
  },
  {
   "cell_type": "code",
   "execution_count": null,
   "metadata": {},
   "outputs": [],
   "source": []
  }
 ],
 "metadata": {
  "kernelspec": {
   "display_name": "Python 3",
   "language": "python",
   "name": "python3"
  },
  "language_info": {
   "codemirror_mode": {
    "name": "ipython",
    "version": 3
   },
   "file_extension": ".py",
   "mimetype": "text/x-python",
   "name": "python",
   "nbconvert_exporter": "python",
   "pygments_lexer": "ipython3",
   "version": "3.8.5"
  }
 },
 "nbformat": 4,
 "nbformat_minor": 4
}
