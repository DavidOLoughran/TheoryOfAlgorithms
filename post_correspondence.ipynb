{
 "cells": [
  {
   "cell_type": "markdown",
   "metadata": {},
   "source": [
    "# Post Correspondence Problem"
   ]
  },
  {
   "cell_type": "code",
   "execution_count": 32,
   "metadata": {},
   "outputs": [
    {
     "name": "stdout",
     "output_type": "stream",
     "text": [
      "['a', 'ab', 'bba']\n"
     ]
    }
   ],
   "source": [
    "# First list.\n",
    "L1 = ['a', 'ab', 'bba']\n",
    "print(L1)"
   ]
  },
  {
   "cell_type": "code",
   "execution_count": 33,
   "metadata": {},
   "outputs": [
    {
     "name": "stdout",
     "output_type": "stream",
     "text": [
      "['a', 'ab', 'bba']\n"
     ]
    }
   ],
   "source": [
    "# Second List\n",
    "L2=['baa', 'aa', 'bb']\n",
    "print(L1)"
   ]
  },
  {
   "cell_type": "markdown",
   "metadata": {},
   "source": [
    "## The Proposed Solution to the Problem"
   ]
  },
  {
   "cell_type": "code",
   "execution_count": 34,
   "metadata": {},
   "outputs": [],
   "source": [
    "# A proposed solution\n",
    "S = [2, 1, 2, 0]"
   ]
  },
  {
   "cell_type": "code",
   "execution_count": 35,
   "metadata": {},
   "outputs": [],
   "source": [
    "# Function for comparing the solution to a list\n",
    "def apply(S, L):\n",
    "    S_on_L = [''.join(L[i]) for i in S]\n",
    "    return ''.join(S_on_L)"
   ]
  },
  {
   "cell_type": "code",
   "execution_count": 36,
   "metadata": {},
   "outputs": [
    {
     "data": {
      "text/plain": [
       "'bbaabbbaa'"
      ]
     },
     "execution_count": 36,
     "metadata": {},
     "output_type": "execute_result"
    }
   ],
   "source": [
    "# Apply S to L1\n",
    "apply(S, L1)"
   ]
  },
  {
   "cell_type": "code",
   "execution_count": 37,
   "metadata": {},
   "outputs": [
    {
     "data": {
      "text/plain": [
       "'bbaabbbaa'"
      ]
     },
     "execution_count": 37,
     "metadata": {},
     "output_type": "execute_result"
    }
   ],
   "source": [
    "# Apply S to L2\n",
    "apply(S, L2)"
   ]
  },
  {
   "cell_type": "code",
   "execution_count": 38,
   "metadata": {},
   "outputs": [
    {
     "data": {
      "text/plain": [
       "True"
      ]
     },
     "execution_count": 38,
     "metadata": {},
     "output_type": "execute_result"
    }
   ],
   "source": [
    "# Get Python to check if the proposed solution is a solution.\n",
    "apply(S, L1) == apply(S, L2)"
   ]
  },
  {
   "cell_type": "code",
   "execution_count": 39,
   "metadata": {},
   "outputs": [
    {
     "data": {
      "text/plain": [
       "'bbaabbbaabbaabbbaa'"
      ]
     },
     "execution_count": 39,
     "metadata": {},
     "output_type": "execute_result"
    }
   ],
   "source": [
    "# Another solution - there are infinitely many.\n",
    "apply((2, 1, 2, 0, 2, 1, 2, 0), L1)"
   ]
  },
  {
   "cell_type": "code",
   "execution_count": 40,
   "metadata": {},
   "outputs": [
    {
     "data": {
      "text/plain": [
       "'bbaabbbaabbaabbbaa'"
      ]
     },
     "execution_count": 40,
     "metadata": {},
     "output_type": "execute_result"
    }
   ],
   "source": [
    "apply((2, 1, 2, 0, 2, 1, 2, 0), L2)"
   ]
  },
  {
   "cell_type": "code",
   "execution_count": null,
   "metadata": {
    "scrolled": true
   },
   "outputs": [],
   "source": []
  },
  {
   "cell_type": "markdown",
   "metadata": {},
   "source": [
    "## No Correspondence in List"
   ]
  },
  {
   "cell_type": "code",
   "execution_count": 41,
   "metadata": {},
   "outputs": [
    {
     "name": "stdout",
     "output_type": "stream",
     "text": [
      "['ab', 'bba']\n"
     ]
    }
   ],
   "source": [
    "# First List\n",
    "L1 = ['ab', 'bba']\n",
    "print(L1)"
   ]
  },
  {
   "cell_type": "code",
   "execution_count": 42,
   "metadata": {},
   "outputs": [
    {
     "name": "stdout",
     "output_type": "stream",
     "text": [
      "['aa', 'bb']\n"
     ]
    }
   ],
   "source": [
    "L2 = ['aa', 'bb']\n",
    "print(L2)"
   ]
  },
  {
   "cell_type": "markdown",
   "metadata": {},
   "source": [
    "##### S = ?"
   ]
  },
  {
   "cell_type": "markdown",
   "metadata": {},
   "source": [
    "possibles = ((0,), (1,), (0,0), (0, 1), (1, 0), (1,1), (0,0,0), (0,0,1), (0,1,0), ...)\n",
    "\n",
    "S can be infinite and no possible combination will result in a solution"
   ]
  },
  {
   "cell_type": "markdown",
   "metadata": {},
   "source": [
    "## Bounded Post Correspondence Problem\n",
    "***\n"
   ]
  },
  {
   "cell_type": "markdown",
   "metadata": {},
   "source": [
    "### Itertools"
   ]
  },
  {
   "cell_type": "code",
   "execution_count": 43,
   "metadata": {},
   "outputs": [],
   "source": [
    "# A very useful module in the Python standard library.\n",
    "import itertools as it"
   ]
  },
  {
   "cell_type": "code",
   "execution_count": 44,
   "metadata": {},
   "outputs": [
    {
     "name": "stdout",
     "output_type": "stream",
     "text": [
      "(0,)\n",
      "(1,)\n",
      "(0, 0)\n",
      "(0, 1)\n",
      "(1, 0)\n",
      "(1, 1)\n",
      "(0, 0, 0)\n",
      "(0, 0, 1)\n",
      "(0, 1, 0)\n",
      "(0, 1, 1)\n",
      "(1, 0, 0)\n",
      "(1, 0, 1)\n",
      "(1, 1, 0)\n",
      "(1, 1, 1)\n",
      "(0, 0, 0, 0)\n",
      "(0, 0, 0, 1)\n",
      "(0, 0, 1, 0)\n",
      "(0, 0, 1, 1)\n",
      "(0, 1, 0, 0)\n",
      "(0, 1, 0, 1)\n",
      "(0, 1, 1, 0)\n",
      "(0, 1, 1, 1)\n",
      "(1, 0, 0, 0)\n",
      "(1, 0, 0, 1)\n",
      "(1, 0, 1, 0)\n",
      "(1, 0, 1, 1)\n",
      "(1, 1, 0, 0)\n",
      "(1, 1, 0, 1)\n",
      "(1, 1, 1, 0)\n",
      "(1, 1, 1, 1)\n"
     ]
    }
   ],
   "source": [
    "# The bound for the bounded problem.\n",
    "K = 4\n",
    "\n",
    "# The generators.\n",
    "gens = []\n",
    "\n",
    "# Loop through all possible solutions.\n",
    "for i in range(1, K + 1):\n",
    "    # Create a generator for solutions of length i, append it to gens.\n",
    "    gens.append(it.product(*([range(len(L1))] * i)))\n",
    "\n",
    "# it.chain just chains generators together.\n",
    "for solution in it.chain(*gens):\n",
    "  print(solution)"
   ]
  },
  {
   "cell_type": "code",
   "execution_count": 100,
   "metadata": {},
   "outputs": [],
   "source": [
    "# Gets all possible cartesian products for the specified amount of times(K)\n",
    "def cartesianProduct(L, K):\n",
    "    combinations=[]\n",
    "    # Finding the possible combinations limited by the specified number of times (K)\n",
    "    for i in range(1 , K+1):\n",
    "        # Looping through all the possible combinations\n",
    "        for combination in it.product(L, repeat = i):\n",
    "            # Join/Concatenate the combinations and append it to\n",
    "            joinedCombinations=''.join(combination)\n",
    "            combinations.append(joinedCombinations)\n",
    "    return combinations\n",
    "    "
   ]
  },
  {
   "cell_type": "code",
   "execution_count": 101,
   "metadata": {},
   "outputs": [
    {
     "name": "stdout",
     "output_type": "stream",
     "text": [
      "['a', 'ab', 'bba', 'aa', 'aab', 'abba', 'aba', 'abab', 'abbba', 'bbaa', 'bbaab', 'bbabba', 'aaa', 'aaab', 'aabba', 'aaba', 'aabab', 'aabbba', 'abbaa', 'abbaab', 'abbabba', 'abaa', 'abaab', 'ababba', 'ababa', 'ababab', 'ababbba', 'abbbaa', 'abbbaab', 'abbbabba', 'bbaaa', 'bbaaab', 'bbaabba', 'bbaaba', 'bbaabab', 'bbaabbba', 'bbabbaa', 'bbabbaab', 'bbabbabba', 'aaaa', 'aaaab', 'aaabba', 'aaaba', 'aaabab', 'aaabbba', 'aabbaa', 'aabbaab', 'aabbabba', 'aabaa', 'aabaab', 'aababba', 'aababa', 'aababab', 'aababbba', 'aabbbaa', 'aabbbaab', 'aabbbabba', 'abbaaa', 'abbaaab', 'abbaabba', 'abbaaba', 'abbaabab', 'abbaabbba', 'abbabbaa', 'abbabbaab', 'abbabbabba', 'abaaa', 'abaaab', 'abaabba', 'abaaba', 'abaabab', 'abaabbba', 'ababbaa', 'ababbaab', 'ababbabba', 'ababaa', 'ababaab', 'abababba', 'abababa', 'abababab', 'abababbba', 'ababbbaa', 'ababbbaab', 'ababbbabba', 'abbbaaa', 'abbbaaab', 'abbbaabba', 'abbbaaba', 'abbbaabab', 'abbbaabbba', 'abbbabbaa', 'abbbabbaab', 'abbbabbabba', 'bbaaaa', 'bbaaaab', 'bbaaabba', 'bbaaaba', 'bbaaabab', 'bbaaabbba', 'bbaabbaa', 'bbaabbaab', 'bbaabbabba', 'bbaabaa', 'bbaabaab', 'bbaababba', 'bbaababa', 'bbaababab', 'bbaababbba', 'bbaabbbaa', 'bbaabbbaab', 'bbaabbbabba', 'bbabbaaa', 'bbabbaaab', 'bbabbaabba', 'bbabbaaba', 'bbabbaabab', 'bbabbaabbba', 'bbabbabbaa', 'bbabbabbaab', 'bbabbabbabba']\n"
     ]
    }
   ],
   "source": [
    "\n",
    "\n",
    "print(cartesianProduct(L1, 4))"
   ]
  },
  {
   "cell_type": "code",
   "execution_count": null,
   "metadata": {},
   "outputs": [],
   "source": []
  },
  {
   "cell_type": "code",
   "execution_count": null,
   "metadata": {},
   "outputs": [],
   "source": []
  },
  {
   "cell_type": "code",
   "execution_count": 47,
   "metadata": {},
   "outputs": [],
   "source": [
    "\n",
    "# Write a solver for the bounded version.\n",
    "def bpcp_solver(L1, L2, K):\n",
    "    if correspond(L1, L2, K):\n",
    "        return True\n",
    "    else:\n",
    "        return False"
   ]
  },
  {
   "cell_type": "code",
   "execution_count": 48,
   "metadata": {},
   "outputs": [],
   "source": [
    "# Correspond needs to state whether a solution S of max length K exists.\n",
    "def correspond(L1, L2, K):\n",
    "    # Your algorithm here.\n",
    "    return True if solution else False"
   ]
  },
  {
   "cell_type": "code",
   "execution_count": null,
   "metadata": {},
   "outputs": [],
   "source": []
  },
  {
   "cell_type": "code",
   "execution_count": null,
   "metadata": {},
   "outputs": [],
   "source": []
  },
  {
   "cell_type": "code",
   "execution_count": null,
   "metadata": {},
   "outputs": [],
   "source": []
  }
 ],
 "metadata": {
  "kernelspec": {
   "display_name": "Python 3",
   "language": "python",
   "name": "python3"
  },
  "language_info": {
   "codemirror_mode": {
    "name": "ipython",
    "version": 3
   },
   "file_extension": ".py",
   "mimetype": "text/x-python",
   "name": "python",
   "nbconvert_exporter": "python",
   "pygments_lexer": "ipython3",
   "version": "3.8.5"
  }
 },
 "nbformat": 4,
 "nbformat_minor": 4
}
